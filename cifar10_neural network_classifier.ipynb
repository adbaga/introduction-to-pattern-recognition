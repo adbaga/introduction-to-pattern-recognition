{
 "cells": [
  {
   "cell_type": "markdown",
   "id": "ca66699d",
   "metadata": {},
   "source": [
    "<h1>Exercise 4 </h1>\n",
    "\n",
    "<p>Aditya Iqbal Bagaskara</p>"
   ]
  },
  {
   "cell_type": "markdown",
   "id": "10090c11",
   "metadata": {},
   "source": [
    "<h2>Importing libraries and define functions </h2>"
   ]
  },
  {
   "cell_type": "code",
   "execution_count": 2,
   "id": "2422360c",
   "metadata": {},
   "outputs": [
    {
     "name": "stderr",
     "output_type": "stream",
     "text": [
      "Using TensorFlow backend.\n"
     ]
    }
   ],
   "source": [
    "import pickle\n",
    "import numpy as np\n",
    "import matplotlib.pyplot as plt\n",
    "from random import random, randint, choice\n",
    "from random import choice\n",
    "from skimage.transform import resize\n",
    "from scipy.stats import multivariate_normal\n",
    "import tensorflow as tf\n",
    "from tensorflow.keras.models import Sequential\n",
    "from tensorflow.keras.layers import Dense\n",
    "import keras\n",
    "\n",
    "from keras.models import Sequential\n",
    "from keras.layers import Dense, Activation, Conv2D\n",
    "from keras.optimizers import SGD\n",
    "from keras import Input\n",
    "\n",
    "def unpickle(file):\n",
    "    with open(file, 'rb') as f:\n",
    "        dict = pickle.load(f, encoding=\"latin1\")\n",
    "    return dict\n",
    "\n",
    "def class_acc(pred, gt):\n",
    "    correctAnswer = 0\n",
    "    correctLabel = []\n",
    "    for i in range(0, len(pred)):\n",
    "        if(label_names[pred[i]] == label_names[gt[i]]):\n",
    "            correctLabel = np.append(correctLabel, label_names[gt[i]])\n",
    "            corectAnswer = correctAnswer + 1\n",
    "    \n",
    "    accuracy = len(correctLabel)/len(gt)\n",
    "    return accuracy\n",
    "\n",
    "def merge(dict1, dict2):\n",
    "    return(dict2.update(dict1))\n"
   ]
  },
  {
   "cell_type": "markdown",
   "id": "53c637a3",
   "metadata": {},
   "source": [
    "<h2> Load the Training Data and Test Data </h2>\n",
    "\n"
   ]
  },
  {
   "cell_type": "code",
   "execution_count": 3,
   "id": "a8345b50",
   "metadata": {},
   "outputs": [],
   "source": [
    "from collections import defaultdict\n",
    "datadict = unpickle('cifar-10-batches-py/data_batch_1')\n",
    "datadict2 = unpickle('cifar-10-batches-py/data_batch_2')\n",
    "datadict3 = unpickle('cifar-10-batches-py/data_batch_3')\n",
    "datadict4 = unpickle('cifar-10-batches-py/data_batch_4')\n",
    "datadict5 = unpickle('cifar-10-batches-py/data_batch_5')\n",
    "datadict_test = unpickle('cifar-10-batches-py/test_batch')\n",
    "\n",
    "dd = defaultdict(list)\n",
    "\n",
    "for d in (datadict, datadict2, datadict3, datadict4, datadict5): # you can list as many input dicts as you want here\n",
    "    for key, value in d.items():\n",
    "        dd[key].append(value)\n",
    "        \n",
    "X_train = dd[\"data\"]\n",
    "Y_train = dd[\"labels\"]\n",
    "\n",
    "\n",
    "X_train = np.concatenate((dd[\"data\"][0],dd[\"data\"][1],dd[\"data\"][2],dd[\"data\"][3],dd[\"data\"][4]), axis=0)\n",
    "Y_train = np.concatenate((dd[\"labels\"][0],dd[\"labels\"][1],dd[\"labels\"][2],dd[\"labels\"][3],dd[\"labels\"][4]), axis=0)\n",
    "\n",
    "\n",
    "X_test = datadict_test[\"data\"]\n",
    "Y_test = datadict_test[\"labels\"]\n",
    "\n",
    "\n",
    "labeldict = unpickle('cifar-10-batches-py/batches.meta')\n",
    "label_names = labeldict[\"label_names\"]\n",
    "\n",
    "X_train = X_train.reshape(len(X_train), 3, 32, 32).transpose(0,2,3,1).astype(\"int64\")\n",
    "X_test = X_test.reshape(len(X_test), 3, 32, 32).transpose(0,2,3,1).astype(\"int64\")\n",
    "\n",
    "Y_train = np.array(Y_train)\n",
    "Y_test = np.array(Y_test)"
   ]
  },
  {
   "cell_type": "code",
   "execution_count": 4,
   "id": "ab30d414",
   "metadata": {},
   "outputs": [],
   "source": [
    "Y_train_1h = np.zeros((len(Y_train),10))\n",
    "Y_test_1h = np.zeros((len(Y_test),10))\n",
    "\n",
    "for i in range(0,len(Y_train)):\n",
    "    color_encode = np.zeros(10)\n",
    "    color_encode[int(Y_train[i])] = 1\n",
    "    Y_train_1h[i] = color_encode\n",
    "\n",
    "for i in range(0,len(Y_test)):\n",
    "    color_encode = np.zeros(10)\n",
    "    color_encode[int(Y_test[i])] = 1\n",
    "    Y_test_1h[i] = color_encode\n",
    "\n",
    "\n"
   ]
  },
  {
   "cell_type": "code",
   "execution_count": 5,
   "id": "5f2d4e9c",
   "metadata": {},
   "outputs": [],
   "source": [
    "num_training = len(X_train)\n",
    "num_test = len(X_test)\n",
    "\n",
    "train_datagen = ImageDataGenerator(\n",
    "        rescale=1./255,\n",
    "        shear_range=0.2,\n",
    "        zoom_range=0.2,\n",
    "        horizontal_flip=True)\n",
    "\n",
    "X_train_1 = np.reshape(X_train,(num_training,3072))/255\n",
    "X_test_1 = np.reshape(X_test,(num_test,3072))/255\n"
   ]
  },
  {
   "cell_type": "markdown",
   "id": "4980fd74",
   "metadata": {},
   "source": [
    "<h3>Model dense 1 </h3>"
   ]
  },
  {
   "cell_type": "code",
   "execution_count": 78,
   "id": "f478e17d",
   "metadata": {},
   "outputs": [],
   "source": [
    "model_1 = Sequential()\n",
    "model_1.add(Dense(5, input_dim=3072, activation='sigmoid'))\n",
    "model_1.add(Dense(300, input_dim=3072, activation='sigmoid'))\n",
    "model_1.add(Dense(10, input_dim=3072, activation='sigmoid'))\n",
    "sgd = SGD(lr=0.01, decay=1e-6, momentum=0.9, nesterov=True)\n",
    "num_of_epochs = 30\n",
    "\n",
    "model_1.compile(optimizer=sgd,loss='categorical_crossentropy',metrics=['accuracy'])"
   ]
  },
  {
   "cell_type": "code",
   "execution_count": 79,
   "id": "b3e7d36f",
   "metadata": {},
   "outputs": [
    {
     "name": "stdout",
     "output_type": "stream",
     "text": [
      "Epoch 1/30\n",
      "50000/50000 [==============================] - 9s 172us/step - loss: 2.3033 - accuracy: 0.1027\n",
      "Epoch 2/30\n",
      "50000/50000 [==============================] - 8s 156us/step - loss: 2.2726 - accuracy: 0.1212\n",
      "Epoch 3/30\n",
      "50000/50000 [==============================] - 8s 162us/step - loss: 2.0391 - accuracy: 0.2174\n",
      "Epoch 4/30\n",
      "50000/50000 [==============================] - 8s 153us/step - loss: 1.9378 - accuracy: 0.2746\n",
      "Epoch 5/30\n",
      "50000/50000 [==============================] - 8s 156us/step - loss: 1.8910 - accuracy: 0.3011\n",
      "Epoch 6/30\n",
      "50000/50000 [==============================] - 8s 155us/step - loss: 1.8631 - accuracy: 0.3153\n",
      "Epoch 7/30\n",
      "50000/50000 [==============================] - 8s 164us/step - loss: 1.8477 - accuracy: 0.3229\n",
      "Epoch 8/30\n",
      "50000/50000 [==============================] - 8s 164us/step - loss: 1.8345 - accuracy: 0.3284\n",
      "Epoch 9/30\n",
      "50000/50000 [==============================] - 8s 166us/step - loss: 1.8208 - accuracy: 0.3357\n",
      "Epoch 10/30\n",
      "50000/50000 [==============================] - 8s 164us/step - loss: 1.8113 - accuracy: 0.3404\n",
      "Epoch 11/30\n",
      "50000/50000 [==============================] - 9s 174us/step - loss: 1.8088 - accuracy: 0.3432\n",
      "Epoch 12/30\n",
      "50000/50000 [==============================] - 8s 160us/step - loss: 1.8017 - accuracy: 0.3442\n",
      "Epoch 13/30\n",
      "50000/50000 [==============================] - 9s 175us/step - loss: 1.7947 - accuracy: 0.3492\n",
      "Epoch 14/30\n",
      "50000/50000 [==============================] - 8s 165us/step - loss: 1.7919 - accuracy: 0.3494\n",
      "Epoch 15/30\n",
      "50000/50000 [==============================] - 8s 156us/step - loss: 1.7918 - accuracy: 0.3508\n",
      "Epoch 16/30\n",
      "50000/50000 [==============================] - 8s 158us/step - loss: 1.7862 - accuracy: 0.3531\n",
      "Epoch 17/30\n",
      "50000/50000 [==============================] - 8s 159us/step - loss: 1.7832 - accuracy: 0.3526\n",
      "Epoch 18/30\n",
      "50000/50000 [==============================] - 8s 155us/step - loss: 1.7794 - accuracy: 0.3561\n",
      "Epoch 19/30\n",
      "50000/50000 [==============================] - 8s 155us/step - loss: 1.7770 - accuracy: 0.3555\n",
      "Epoch 20/30\n",
      "50000/50000 [==============================] - 8s 158us/step - loss: 1.7742 - accuracy: 0.3539\n",
      "Epoch 21/30\n",
      "50000/50000 [==============================] - 8s 161us/step - loss: 1.7718 - accuracy: 0.3565\n",
      "Epoch 22/30\n",
      "50000/50000 [==============================] - 10s 197us/step - loss: 1.7692 - accuracy: 0.3595\n",
      "Epoch 23/30\n",
      "50000/50000 [==============================] - 14s 279us/step - loss: 1.7677 - accuracy: 0.3595\n",
      "Epoch 24/30\n",
      "50000/50000 [==============================] - 8s 170us/step - loss: 1.7644 - accuracy: 0.3610\n",
      "Epoch 25/30\n",
      "50000/50000 [==============================] - 8s 161us/step - loss: 1.7651 - accuracy: 0.3618\n",
      "Epoch 26/30\n",
      "50000/50000 [==============================] - 9s 182us/step - loss: 1.7604 - accuracy: 0.3609\n",
      "Epoch 27/30\n",
      "50000/50000 [==============================] - 10s 197us/step - loss: 1.7583 - accuracy: 0.3642\n",
      "Epoch 28/30\n",
      "50000/50000 [==============================] - 9s 173us/step - loss: 1.7566 - accuracy: 0.3632\n",
      "Epoch 29/30\n",
      "50000/50000 [==============================] - 13s 259us/step - loss: 1.7547 - accuracy: 0.3619\n",
      "Epoch 30/30\n",
      "50000/50000 [==============================] - 11s 220us/step - loss: 1.7555 - accuracy: 0.3650\n"
     ]
    }
   ],
   "source": [
    "tr_hist_1 = model_1.fit(X_train_1,Y_train_1h, epochs=num_of_epochs, batch_size=32, verbose=1)"
   ]
  },
  {
   "cell_type": "code",
   "execution_count": 80,
   "id": "dce8e1a0",
   "metadata": {},
   "outputs": [
    {
     "data": {
      "image/png": "[encoded data removed]",
      "text/plain": [
       "<Figure size 432x288 with 1 Axes>"
      ]
     },
     "metadata": {
      "needs_background": "light"
     },
     "output_type": "display_data"
    }
   ],
   "source": [
    "plt.plot(tr_hist_1.history['accuracy'])\n",
    "plt.title('Model I Accuracy ')\n",
    "plt.ylabel('Accuracy')\n",
    "plt.xlabel('epoch')\n",
    "plt.show()"
   ]
  },
  {
   "cell_type": "code",
   "execution_count": 81,
   "id": "691c159c",
   "metadata": {},
   "outputs": [
    {
     "data": {
      "image/png": "[encoded data removed]",
      "text/plain": [
       "<Figure size 432x288 with 1 Axes>"
      ]
     },
     "metadata": {
      "needs_background": "light"
     },
     "output_type": "display_data"
    }
   ],
   "source": [
    "plt.plot(tr_hist_1.history['loss'])\n",
    "plt.title('Model I Loss')\n",
    "plt.ylabel('Loss')\n",
    "plt.xlabel('epoch')\n",
    "plt.show()"
   ]
  },
  {
   "cell_type": "code",
   "execution_count": 82,
   "id": "46fe28b5",
   "metadata": {},
   "outputs": [
    {
     "name": "stdout",
     "output_type": "stream",
     "text": [
      "['loss', 'accuracy']\n",
      "[1.7989103275299072, 0.34860000014305115]\n"
     ]
    }
   ],
   "source": [
    "acc = model_1.evaluate(X_test_1, Y_test_1h, batch_size=128, verbose=0)\n",
    "print(model_1.metrics_names)\n",
    "print(acc)"
   ]
  },
  {
   "cell_type": "code",
   "execution_count": 83,
   "id": "9c1c61e3",
   "metadata": {},
   "outputs": [
    {
     "name": "stdout",
     "output_type": "stream",
     "text": [
      "The accuracy of model 1 is 34.860000014305115%\n"
     ]
    }
   ],
   "source": [
    "print(f'The accuracy of model 1 is {acc[1]*100}%')"
   ]
  },
  {
   "cell_type": "code",
   "execution_count": 84,
   "id": "5e51a335",
   "metadata": {},
   "outputs": [
    {
     "name": "stdout",
     "output_type": "stream",
     "text": [
      "Model: \"sequential_18\"\n",
      "_________________________________________________________________\n",
      "Layer (type)                 Output Shape              Param #   \n",
      "=================================================================\n",
      "dense_21 (Dense)             (None, 5)                 15365     \n",
      "_________________________________________________________________\n",
      "dense_22 (Dense)             (None, 300)               1800      \n",
      "_________________________________________________________________\n",
      "dense_23 (Dense)             (None, 10)                3010      \n",
      "=================================================================\n",
      "Total params: 20,175\n",
      "Trainable params: 20,175\n",
      "Non-trainable params: 0\n",
      "_________________________________________________________________\n",
      "None\n"
     ]
    }
   ],
   "source": [
    "print(model_1.summary())"
   ]
  },
  {
   "cell_type": "markdown",
   "id": "7526a692",
   "metadata": {},
   "source": [
    "<h3>Model Dense 2"
   ]
  },
  {
   "cell_type": "code",
   "execution_count": 85,
   "id": "d4996cb0",
   "metadata": {},
   "outputs": [],
   "source": [
    "model_2 = Sequential()\n",
    "model_2.add(Dense(100, input_dim=3072, activation='sigmoid'))\n",
    "model_2.add(Dense(50, input_dim=3072, activation='sigmoid'))\n",
    "model_2.add(Dense(10, input_dim=3072, activation='sigmoid'))\n",
    "sgd = SGD(lr=0.01, decay=1e-6, momentum=0.9, nesterov=True)\n",
    "num_of_epochs = 30\n",
    "\n",
    "model_2.compile(optimizer=sgd,loss='categorical_crossentropy',metrics=['accuracy'])"
   ]
  },
  {
   "cell_type": "code",
   "execution_count": 87,
   "id": "3d63ee5f",
   "metadata": {},
   "outputs": [
    {
     "name": "stdout",
     "output_type": "stream",
     "text": [
      "Epoch 1/30\n",
      "50000/50000 [==============================] - 22s 443us/step - loss: 2.0599 - accuracy: 0.2405\n",
      "Epoch 2/30\n",
      "50000/50000 [==============================] - 15s 302us/step - loss: 1.8164 - accuracy: 0.3501\n",
      "Epoch 3/30\n",
      "50000/50000 [==============================] - 15s 308us/step - loss: 1.7114 - accuracy: 0.3854\n",
      "Epoch 4/30\n",
      "50000/50000 [==============================] - 15s 310us/step - loss: 1.6404 - accuracy: 0.4121\n",
      "Epoch 5/30\n",
      "50000/50000 [==============================] - 16s 315us/step - loss: 1.5837 - accuracy: 0.4345\n",
      "Epoch 6/30\n",
      "50000/50000 [==============================] - 17s 349us/step - loss: 1.5388 - accuracy: 0.4473\n",
      "Epoch 7/30\n",
      "50000/50000 [==============================] - 16s 315us/step - loss: 1.5039 - accuracy: 0.4620\n",
      "Epoch 8/30\n",
      "50000/50000 [==============================] - 15s 292us/step - loss: 1.4755 - accuracy: 0.4736\n",
      "Epoch 9/30\n",
      "50000/50000 [==============================] - 16s 328us/step - loss: 1.4505 - accuracy: 0.4829\n",
      "Epoch 10/30\n",
      "50000/50000 [==============================] - 15s 294us/step - loss: 1.4288 - accuracy: 0.4899\n",
      "Epoch 11/30\n",
      "50000/50000 [==============================] - 16s 318us/step - loss: 1.4081 - accuracy: 0.4987\n",
      "Epoch 12/30\n",
      "50000/50000 [==============================] - 15s 297us/step - loss: 1.3867 - accuracy: 0.5060\n",
      "Epoch 13/30\n",
      "50000/50000 [==============================] - 16s 322us/step - loss: 1.3675 - accuracy: 0.5122\n",
      "Epoch 14/30\n",
      "50000/50000 [==============================] - 15s 298us/step - loss: 1.3523 - accuracy: 0.5158\n",
      "Epoch 15/30\n",
      "50000/50000 [==============================] - 16s 325us/step - loss: 1.3358 - accuracy: 0.5213\n",
      "Epoch 16/30\n",
      "50000/50000 [==============================] - 15s 306us/step - loss: 1.3209 - accuracy: 0.5274\n",
      "Epoch 17/30\n",
      "50000/50000 [==============================] - 17s 345us/step - loss: 1.3023 - accuracy: 0.5336\n",
      "Epoch 18/30\n",
      "50000/50000 [==============================] - 20s 390us/step - loss: 1.2903 - accuracy: 0.5403\n",
      "Epoch 19/30\n",
      "50000/50000 [==============================] - 18s 353us/step - loss: 1.2763 - accuracy: 0.5450\n",
      "Epoch 20/30\n",
      "50000/50000 [==============================] - 18s 365us/step - loss: 1.2630 - accuracy: 0.5509\n",
      "Epoch 21/30\n",
      "50000/50000 [==============================] - 17s 339us/step - loss: 1.2483 - accuracy: 0.5554\n",
      "Epoch 22/30\n",
      "50000/50000 [==============================] - 17s 339us/step - loss: 1.2377 - accuracy: 0.5580\n",
      "Epoch 23/30\n",
      "50000/50000 [==============================] - 20s 404us/step - loss: 1.2305 - accuracy: 0.5581\n",
      "Epoch 24/30\n",
      "50000/50000 [==============================] - 20s 410us/step - loss: 1.2179 - accuracy: 0.5642\n",
      "Epoch 25/30\n",
      "50000/50000 [==============================] - 16s 316us/step - loss: 1.2060 - accuracy: 0.5693\n",
      "Epoch 26/30\n",
      "50000/50000 [==============================] - 16s 330us/step - loss: 1.1966 - accuracy: 0.5716\n",
      "Epoch 27/30\n",
      "50000/50000 [==============================] - 16s 326us/step - loss: 1.1844 - accuracy: 0.5762\n",
      "Epoch 28/30\n",
      "50000/50000 [==============================] - 16s 326us/step - loss: 1.1774 - accuracy: 0.5772\n",
      "Epoch 29/30\n",
      "50000/50000 [==============================] - 21s 419us/step - loss: 1.1668 - accuracy: 0.5823\n",
      "Epoch 30/30\n",
      "50000/50000 [==============================] - 19s 370us/step - loss: 1.1576 - accuracy: 0.5849\n"
     ]
    }
   ],
   "source": [
    "tr_hist_2 = model_2.fit(X_train_1,Y_train_1h, epochs=num_of_epochs, batch_size=32, verbose=1)"
   ]
  },
  {
   "cell_type": "code",
   "execution_count": 92,
   "id": "3055294e",
   "metadata": {},
   "outputs": [
    {
     "name": "stdout",
     "output_type": "stream",
     "text": [
      "['loss', 'accuracy']\n",
      "[1.382735107421875, 0.5131999850273132]\n",
      "The accuracy of model II is 51.31999850273132%\n"
     ]
    }
   ],
   "source": [
    "acc_2 = model_2.evaluate(X_test_1, Y_test_1h, batch_size=128, verbose=0)\n",
    "print(model_2.metrics_names)\n",
    "print(acc_2)\n",
    "print(f'The accuracy of model II is {acc_2[1]*100}%')"
   ]
  },
  {
   "cell_type": "code",
   "execution_count": 91,
   "id": "c2a04d57",
   "metadata": {},
   "outputs": [
    {
     "data": {
      "image/png": "[encoded data removed]",
      "text/plain": [
       "<Figure size 432x288 with 1 Axes>"
      ]
     },
     "metadata": {
      "needs_background": "light"
     },
     "output_type": "display_data"
    }
   ],
   "source": [
    "plt.plot(tr_hist_2.history['loss'])\n",
    "plt.title('Model II Loss')\n",
    "plt.ylabel('Loss')\n",
    "plt.xlabel('epoch')\n",
    "plt.show()"
   ]
  },
  {
   "cell_type": "code",
   "execution_count": 90,
   "id": "70822ee9",
   "metadata": {},
   "outputs": [
    {
     "data": {
      "image/png": "[encoded data removed]",
      "text/plain": [
       "<Figure size 432x288 with 1 Axes>"
      ]
     },
     "metadata": {
      "needs_background": "light"
     },
     "output_type": "display_data"
    }
   ],
   "source": [
    "plt.plot(tr_hist_2.history['accuracy'])\n",
    "plt.title('Model II Accuracy ')\n",
    "plt.ylabel('Accuracy')\n",
    "plt.xlabel('epoch')\n",
    "plt.show()"
   ]
  },
  {
   "cell_type": "markdown",
   "id": "e157710c",
   "metadata": {},
   "source": [
    "<h2>Model with convulutional layer </h2>"
   ]
  },
  {
   "cell_type": "code",
   "execution_count": 35,
   "id": "f8ebfb6b",
   "metadata": {},
   "outputs": [],
   "source": [
    "model_3 = Sequential()\n",
    "\n",
    "\n",
    "model_3.add(Dense(5, input_shape=(32,32,3), activation='sigmoid'))\n",
    "model_3.add(Conv2D(64, (3, 3), activation='relu', input_shape=(32, 32, 3)))\n",
    "model_3.add(Conv2D(32, (3, 3), activation='relu', input_shape=(64, 64, 3)))\n",
    "model_3.add(keras.layers.MaxPooling2D((2, 2)))\n",
    "model_3.add(keras.layers.Dropout(0.4))\n",
    "model_3.add(keras.layers.Flatten())\n",
    "model_3.add(Dense(200, activation='relu', kernel_initializer='he_uniform'))\n",
    "model_3.add(Dense(10, activation='sigmoid'))\n",
    "sgd = SGD(lr=0.01)\n",
    "num_of_epochs = 10\n",
    "model_3.compile(optimizer=sgd,loss='categorical_crossentropy',metrics=['accuracy'])"
   ]
  },
  {
   "cell_type": "code",
   "execution_count": 36,
   "id": "02256361",
   "metadata": {},
   "outputs": [
    {
     "name": "stdout",
     "output_type": "stream",
     "text": [
      "Model: \"sequential_12\"\n",
      "_________________________________________________________________\n",
      "Layer (type)                 Output Shape              Param #   \n",
      "=================================================================\n",
      "dense_21 (Dense)             (None, 32, 32, 5)         20        \n",
      "_________________________________________________________________\n",
      "conv2d_32 (Conv2D)           (None, 30, 30, 64)        2944      \n",
      "_________________________________________________________________\n",
      "conv2d_33 (Conv2D)           (None, 28, 28, 32)        18464     \n",
      "_________________________________________________________________\n",
      "max_pooling2d_9 (MaxPooling2 (None, 14, 14, 32)        0         \n",
      "_________________________________________________________________\n",
      "dropout_5 (Dropout)          (None, 14, 14, 32)        0         \n",
      "_________________________________________________________________\n",
      "flatten_8 (Flatten)          (None, 6272)              0         \n",
      "_________________________________________________________________\n",
      "dense_22 (Dense)             (None, 200)               1254600   \n",
      "_________________________________________________________________\n",
      "dense_23 (Dense)             (None, 10)                2010      \n",
      "=================================================================\n",
      "Total params: 1,278,038\n",
      "Trainable params: 1,278,038\n",
      "Non-trainable params: 0\n",
      "_________________________________________________________________\n",
      "None\n"
     ]
    }
   ],
   "source": [
    "print(model_3.summary())"
   ]
  },
  {
   "cell_type": "code",
   "execution_count": 37,
   "id": "d05665c6",
   "metadata": {},
   "outputs": [
    {
     "name": "stdout",
     "output_type": "stream",
     "text": [
      "Epoch 1/10\n",
      "50000/50000 [==============================] - 157s 3ms/step - loss: 2.1594 - accuracy: 0.1907\n",
      "Epoch 2/10\n",
      "50000/50000 [==============================] - 166s 3ms/step - loss: 1.9217 - accuracy: 0.2960\n",
      "Epoch 3/10\n",
      "50000/50000 [==============================] - 170s 3ms/step - loss: 1.8426 - accuracy: 0.3284\n",
      "Epoch 4/10\n",
      "50000/50000 [==============================] - 171s 3ms/step - loss: 1.7927 - accuracy: 0.3483\n",
      "Epoch 5/10\n",
      "50000/50000 [==============================] - 170s 3ms/step - loss: 1.7494 - accuracy: 0.3666\n",
      "Epoch 6/10\n",
      "50000/50000 [==============================] - 153s 3ms/step - loss: 1.7095 - accuracy: 0.3833\n",
      "Epoch 7/10\n",
      "50000/50000 [==============================] - 148s 3ms/step - loss: 1.6713 - accuracy: 0.3980\n",
      "Epoch 8/10\n",
      "50000/50000 [==============================] - 146s 3ms/step - loss: 1.6328 - accuracy: 0.4153\n",
      "Epoch 9/10\n",
      "50000/50000 [==============================] - 182s 4ms/step - loss: 1.6000 - accuracy: 0.4249\n",
      "Epoch 10/10\n",
      "50000/50000 [==============================] - 177s 4ms/step - loss: 1.5684 - accuracy: 0.4397\n"
     ]
    }
   ],
   "source": [
    "tr_hist_3 = model_3.fit(X_train,Y_train_1h, epochs=num_of_epochs, batch_size=32, verbose=1)"
   ]
  },
  {
   "cell_type": "code",
   "execution_count": 38,
   "id": "69b0ed87",
   "metadata": {},
   "outputs": [
    {
     "name": "stdout",
     "output_type": "stream",
     "text": [
      "['loss', 'accuracy']\n",
      "[1.5949595392227174, 0.4339999854564667]\n",
      "The accuracy of model III is 43.39999854564667%\n"
     ]
    }
   ],
   "source": [
    "acc_3 = model_3.evaluate(X_test, Y_test_1h, batch_size=128, verbose=0)\n",
    "print(model_3.metrics_names)\n",
    "print(acc_3)\n",
    "print(f'The accuracy of model III is {acc_3[1]*100}%')"
   ]
  },
  {
   "cell_type": "code",
   "execution_count": 39,
   "id": "2017741f",
   "metadata": {},
   "outputs": [
    {
     "data": {
      "image/png": "[encoded data removed]",
      "text/plain": [
       "<Figure size 432x288 with 1 Axes>"
      ]
     },
     "metadata": {
      "needs_background": "light"
     },
     "output_type": "display_data"
    }
   ],
   "source": [
    "plt.plot(tr_hist_3.history['accuracy'])\n",
    "plt.title('Model CNN Accuracy ')\n",
    "plt.ylabel('Accuracy')\n",
    "plt.xlabel('epoch')\n",
    "plt.show()"
   ]
  },
  {
   "cell_type": "code",
   "execution_count": 40,
   "id": "703df213",
   "metadata": {},
   "outputs": [
    {
     "data": {
      "image/png": "[encoded data removed]",
      "text/plain": [
       "<Figure size 432x288 with 1 Axes>"
      ]
     },
     "metadata": {
      "needs_background": "light"
     },
     "output_type": "display_data"
    }
   ],
   "source": [
    "plt.plot(tr_hist_3.history['loss'])\n",
    "plt.title('Model I Loss')\n",
    "plt.ylabel('Loss')\n",
    "plt.xlabel('epoch')\n",
    "plt.show()"
   ]
  },
  {
   "cell_type": "markdown",
   "id": "0f47aaa2",
   "metadata": {},
   "source": [
    "<h4>1-NN classifier </h4>\n",
    "\n",
    " <ul>\n",
    "         <li>The accuracy of 1-NN Classifier: 38.59% </li>\n",
    "\n",
    "\n",
    " </ul>\n",
    "\n",
    "    \n",
    "<br>    \n",
    "\n",
    "\n",
    "<h4>Bayes classifier </h4>\n",
    "\n",
    " <ul>\n",
    "         <li>Task 1: 19.5%  </li>\n",
    "         <li>Task 2: 24.5% </li>\n",
    "\n",
    " </ul>\n",
    "\n",
    "\n",
    "<p> The accuracy for task 2 is slightly higher than task 1 \n",
    "since we are trying to find the correlation between those RGB colors.\n",
    "Providing covariane matrices as parameter can explains the relation between those values better\n",
    "in terms of their existence with other colors (for example to construct another color) rather than \n",
    "like the first classification when we just do each color independently </p>\n",
    "\n",
    "\n",
    "\n",
    "<br>\n",
    "\n",
    "<h4>Neural network</h4>\n",
    "\n",
    "\n",
    " \n",
    " <ul>\n",
    "         <li>Model 1: 34.86% </li>\n",
    "         <li>Model 2: 51.32% </li>\n",
    "         <li>Model 3: 43.40%</li>\n",
    "      </ul>\n",
    "      \n",
    "      \n",
    "<p> The model II from our neural network achieved the highest accuracy from all of our classifiers </p>"
   ]
  },
  {
   "cell_type": "code",
   "execution_count": 9,
   "id": "6879ea7a",
   "metadata": {},
   "outputs": [
    {
     "data": {
      "image/png": "[encoded data removed]",
      "text/plain": [
       "<Figure size 576x360 with 1 Axes>"
      ]
     },
     "metadata": {
      "needs_background": "light"
     },
     "output_type": "display_data"
    }
   ],
   "source": [
    "import matplotlib.pyplot as plt\n",
    "data = {'1NN-Classifier':38.6, 'Bayes Classifier':24.5, 'Neural Network':51.32}\n",
    "classifier = list(data.keys())\n",
    "acc = list(data.values())\n",
    "  \n",
    "fig = plt.figure(figsize = (8, 5))\n",
    " \n",
    "# creating the bar plot\n",
    "plt.bar(classifier, acc, color ='blue',\n",
    "        width = 0.4)\n",
    " \n",
    "plt.xlabel(\"Classifiers\")\n",
    "plt.ylabel(\"Accuracy of test data (%)\")\n",
    "plt.title(\"Accuracy of Cifar-10 classifiers\")\n",
    "plt.show()"
   ]
  },
  {
   "cell_type": "code",
   "execution_count": null,
   "id": "b26d9d6e",
   "metadata": {},
   "outputs": [],
   "source": []
  }
 ],
 "metadata": {
  "kernelspec": {
   "display_name": "Python 3",
   "language": "python",
   "name": "python3"
  },
  "language_info": {
   "codemirror_mode": {
    "name": "ipython",
    "version": 3
   },
   "file_extension": ".py",
   "mimetype": "text/x-python",
   "name": "python",
   "nbconvert_exporter": "python",
   "pygments_lexer": "ipython3",
   "version": "3.7.11"
  }
 },
 "nbformat": 4,
 "nbformat_minor": 5
}
