{
 "cells": [
  {
   "cell_type": "markdown",
   "id": "ca66699d",
   "metadata": {},
   "source": [
    "<h1>Exercise 3 </h1>\n",
    "\n",
    "<p>Aditya Iqbal Bagaskara</p>"
   ]
  },
  {
   "cell_type": "markdown",
   "id": "10090c11",
   "metadata": {},
   "source": [
    "<h2>Importing libraries and define functions </h2>"
   ]
  },
  {
   "cell_type": "code",
   "execution_count": 15,
   "id": "2422360c",
   "metadata": {},
   "outputs": [],
   "source": [
    "import pickle\n",
    "import numpy as np\n",
    "import matplotlib.pyplot as plt\n",
    "from random import random, randint, choice\n",
    "from random import choice\n",
    "from skimage.transform import resize\n",
    "from scipy.stats import multivariate_normal\n",
    "\n",
    "def unpickle(file):\n",
    "    with open(file, 'rb') as f:\n",
    "        dict = pickle.load(f, encoding=\"latin1\")\n",
    "    return dict\n",
    "\n",
    "def class_acc(pred, gt):\n",
    "    correctAnswer = 0\n",
    "    correctLabel = []\n",
    "    for i in range(0, len(pred)):\n",
    "        if(label_names[pred[i]] == label_names[gt[i]]):\n",
    "            correctLabel = np.append(correctLabel, label_names[gt[i]])\n",
    "            corectAnswer = correctAnswer + 1\n",
    "    \n",
    "    accuracy = len(correctLabel)/len(gt)\n",
    "    return accuracy\n",
    "\n",
    "def merge(dict1, dict2):\n",
    "    return(dict2.update(dict1))\n"
   ]
  },
  {
   "cell_type": "markdown",
   "id": "53c637a3",
   "metadata": {},
   "source": [
    "<h2> Load the Training Data and Test Data </h2>\n",
    "\n"
   ]
  },
  {
   "cell_type": "code",
   "execution_count": 16,
   "id": "a8345b50",
   "metadata": {},
   "outputs": [],
   "source": [
    "from collections import defaultdict\n",
    "datadict = unpickle('cifar-10-batches-py/data_batch_1')\n",
    "datadict2 = unpickle('cifar-10-batches-py/data_batch_2')\n",
    "datadict3 = unpickle('cifar-10-batches-py/data_batch_3')\n",
    "datadict4 = unpickle('cifar-10-batches-py/data_batch_4')\n",
    "datadict5 = unpickle('cifar-10-batches-py/data_batch_5')\n",
    "datadict_test = unpickle('cifar-10-batches-py/test_batch')\n",
    "\n",
    "dd = defaultdict(list)\n",
    "\n",
    "for d in (datadict, datadict2, datadict3, datadict4, datadict5): # you can list as many input dicts as you want here\n",
    "    for key, value in d.items():\n",
    "        dd[key].append(value)\n",
    "        \n",
    "X_train = dd[\"data\"]\n",
    "Y_train = dd[\"labels\"]\n",
    "\n",
    "\n",
    "X_train = np.concatenate((dd[\"data\"][0],dd[\"data\"][1],dd[\"data\"][2],dd[\"data\"][3],dd[\"data\"][4]), axis=0)\n",
    "Y_train = np.concatenate((dd[\"labels\"][0],dd[\"labels\"][1],dd[\"labels\"][2],dd[\"labels\"][3],dd[\"labels\"][4]), axis=0)\n",
    "\n",
    "\n",
    "X_test = datadict_test[\"data\"]\n",
    "Y_test = datadict_test[\"labels\"]\n",
    "\n",
    "\n",
    "labeldict = unpickle('cifar-10-batches-py/batches.meta')\n",
    "label_names = labeldict[\"label_names\"]\n",
    "\n",
    "X_train = X_train.reshape(len(X_train), 3, 32, 32).transpose(0,2,3,1).astype(\"int64\")\n",
    "X_test = X_test.reshape(len(X_test), 3, 32, 32).transpose(0,2,3,1).astype(\"int64\")\n",
    "\n",
    "Y_train = np.array(Y_train)\n",
    "Y_test = np.array(Y_test)"
   ]
  },
  {
   "cell_type": "markdown",
   "id": "884abd87",
   "metadata": {},
   "source": [
    "<H1>CIFAR-10 – Bayesian classifier (good) </H1>"
   ]
  },
  {
   "cell_type": "code",
   "execution_count": 17,
   "id": "c8d48005",
   "metadata": {},
   "outputs": [],
   "source": [
    "def cifar10_color(X):\n",
    "    Xf = np.zeros((X.shape[0], 3))\n",
    "    for i in range(X.shape[0]):\n",
    "        mu_r = np.mean(X[i][:,:,0])\n",
    "        mu_g = np.mean(X[i][:,:,1])\n",
    "        mu_b = np.mean(X[i][:,:,2])\n",
    "        Xf[i] = (mu_r, mu_g, mu_b)\n",
    "    return Xf"
   ]
  },
  {
   "cell_type": "code",
   "execution_count": 18,
   "id": "a4571619",
   "metadata": {},
   "outputs": [],
   "source": [
    "X_train_1 = cifar10_color(X_train)"
   ]
  },
  {
   "cell_type": "code",
   "execution_count": 19,
   "id": "1d9d5d90",
   "metadata": {},
   "outputs": [],
   "source": [
    "def cifar10_naivebayes_learn(Xp,Y):\n",
    "    \n",
    "    airplane = []\n",
    "    automobile = []\n",
    "    bird = []\n",
    "    cat = []\n",
    "    deer = []\n",
    "    dog = []\n",
    "    frog = []\n",
    "    horse = []\n",
    "    ship = []\n",
    "    truck = []\n",
    "    \n",
    "    \n",
    "    Xf = np.zeros(len(Y))\n",
    "\n",
    "    \n",
    "    for i in range(0,len(Xp)):\n",
    "        if(Y_train[i] == 0):\n",
    "            airplane.append((Xp[i]))\n",
    "        if (Y[i] == 1):\n",
    "            automobile.append(Xp[i])\n",
    "        if (Y[i]== 2):\n",
    "            bird.append(Xp[i])\n",
    "        if (Y[i] == 3):\n",
    "            cat.append(Xp[i])\n",
    "        if (Y[i] == 4):\n",
    "            deer.append(Xp[i])\n",
    "        if (Y[i] == 5):\n",
    "            dog.append( Xp[i])\n",
    "        if (Y[i] == 6):\n",
    "            frog.append(Xp[i])\n",
    "        if (Y[i] == 7):\n",
    "            horse.append(Xp[i])\n",
    "        if (Y[i] == 8):\n",
    "            ship.append(Xp[i])\n",
    "        if (Y[i] == 9):\n",
    "            truck.append(Xp[i])\n",
    "            \n",
    "    airplane = np.array(airplane)\n",
    "    automobile = np.array(automobile)\n",
    "    bird = np.array(bird)\n",
    "    cat = np.array(cat)\n",
    "    deer = np.array(deer)\n",
    "    dog = np.array(dog)\n",
    "    frog = np.array(frog)\n",
    "    horse = np.array(horse)\n",
    "    ship = np.array(ship)\n",
    "    truck = np.array(truck)\n",
    "    Xf = (airplane, automobile, bird, cat, deer, dog, frog, horse, ship, truck)\n",
    "\n",
    "    img_mean = np.zeros((len(Xf), 3))\n",
    "    for i in range(0, len(img_mean)):\n",
    "        img_mean[i][0] = np.mean(Xf[i][:,0]) \n",
    "        img_mean[i][1] = np.mean(Xf[i][:,1]) \n",
    "        img_mean[i][2] = np.mean(Xf[i][:,2]) \n",
    "    \n",
    "    img_std = np.zeros((len(Xf), 3))\n",
    "    for i in range(0, len(img_std)):\n",
    "        img_std[i][0] = np.std(Xf[i][:,0]) \n",
    "        img_std[i][1] = np.std(Xf[i][:,1]) \n",
    "        img_std[i][2] = np.std(Xf[i][:,2]) \n",
    "    \n",
    "    total = 0\n",
    "    for i in range(0, len(Xf)):\n",
    "        total = total + Xf[i].shape[0] \n",
    "        \n",
    "        \n",
    "    pos = [len(x)/total for x in Xf]\n",
    "    pos = np.array(pos)\n",
    "        \n",
    "    \n",
    "    return img_mean, img_std, pos"
   ]
  },
  {
   "cell_type": "code",
   "execution_count": 20,
   "id": "9ee6f991",
   "metadata": {},
   "outputs": [],
   "source": [
    "mu, sig, pos = cifar10_naivebayes_learn(X_train_1, Y_train)"
   ]
  },
  {
   "cell_type": "code",
   "execution_count": 21,
   "id": "2f96b664",
   "metadata": {},
   "outputs": [],
   "source": [
    "def normal_dist(x , mean , sd):\n",
    "    prob_density = (1/ (sd*((2*np.pi)**(0.5)))) *  (np.exp( (-1/2)*(((x-mean)/sd)**2 )))\n",
    "    return prob_density\n",
    "\n",
    "def cifar10_classifier_naivebayes(x,mu,sigma,p):\n",
    "    \n",
    "    denominator = []\n",
    "    for k in range(0,len(p)):\n",
    "        dist = ((normal_dist(x[0], mu[k][0], sigma[k][0]))*((normal_dist(x[1], mu[k][1], sigma[k][1])))*((normal_dist(x[2], mu[k][2], sigma[k][2]))))*p[k]\n",
    "        denominator.append(dist)\n",
    "        \n",
    "    denominator = np.sum(np.array(denominator))\n",
    "    \n",
    "    \n",
    "    \n",
    "    prob_array = []\n",
    "    for i in range(0,len(p)):\n",
    "        rnd = (normal_dist(x[0], mu[i][0], sigma[i][0]))\n",
    "        gnd = (normal_dist(x[1], mu[i][1], sigma[i][1]))\n",
    "        bnd = (normal_dist(x[2], mu[i][2], sigma[i][2]))\n",
    "        posterior = p[i]\n",
    "        \n",
    "        \n",
    "        d1 = (rnd * gnd * bnd * posterior)/denominator\n",
    "        prob_array.append(d1)\n",
    "        \n",
    "    \n",
    "    prob_array = np.array(prob_array) \n",
    "    \n",
    "    \n",
    "    return np.argmax(prob_array)"
   ]
  },
  {
   "cell_type": "code",
   "execution_count": 22,
   "id": "be50a07f",
   "metadata": {},
   "outputs": [],
   "source": [
    "naive_bayes_result_train = []\n",
    "\n",
    "for x in range(0, X_train_1.shape[0]):\n",
    "    naive_bayes_result_train.append(cifar10_classifier_naivebayes(X_train_1[x], mu, sig, pos))\n",
    "naive_bayes_result_train = np.array(naive_bayes_result_train)"
   ]
  },
  {
   "cell_type": "code",
   "execution_count": 23,
   "id": "d509b216",
   "metadata": {},
   "outputs": [],
   "source": [
    "naive_bayes_result_test = []\n",
    "\n",
    "X_test_1 = cifar10_color(X_test)\n",
    "\n",
    "for x in range(0, X_test_1.shape[0]):\n",
    "    naive_bayes_result_test.append(cifar10_classifier_naivebayes(X_test_1[x], mu, sig, pos))\n",
    "naive_bayes_result_test = np.array(naive_bayes_result_test)"
   ]
  },
  {
   "cell_type": "code",
   "execution_count": 24,
   "id": "86f69b9f",
   "metadata": {},
   "outputs": [
    {
     "name": "stdout",
     "output_type": "stream",
     "text": [
      "Accuracy for task 1 test is 19.470000000000002%\n"
     ]
    }
   ],
   "source": [
    "accuracy_2 = class_acc(naive_bayes_result_test, Y_test)\n",
    "\n",
    "print(f'Accuracy for task 1 test is {accuracy_2*100}%')"
   ]
  },
  {
   "cell_type": "markdown",
   "id": "e5a8dc8f",
   "metadata": {},
   "source": [
    "<h1>CIFAR-10 – Bayesian classifier (better) </h1>"
   ]
  },
  {
   "cell_type": "code",
   "execution_count": 25,
   "id": "1d991d32",
   "metadata": {},
   "outputs": [],
   "source": [
    "def cifar10_bayes_learn_2(Xf,y):\n",
    "    \n",
    "    img_by_class = [[0] * 3 for i in range(0,10)]\n",
    "    \n",
    "    img_mean = [[0] * 3 for i in range(0,10)]\n",
    "    \n",
    "    img_mean = np.array(img_mean)\n",
    "    \n",
    "    \n",
    "    for i in range(0,len(Xf)):\n",
    "        img_class = y[i]\n",
    "        for j in range(0,3):\n",
    "            img_by_class[img_class][j] = np.append(img_by_class[img_class][j],Xf[i][j])\n",
    "            \n",
    "    \n",
    "    img_cov =  np.zeros((10,3,3))\n",
    "    \n",
    "    for i in range(0,img_mean.shape[0]):\n",
    "        for j in range(0,3):\n",
    "            img_mean[i][j] = np.mean(img_by_class[i][j])\n",
    "        img_cov[i] = np.cov((img_by_class[i]))\n",
    "        \n",
    "        \n",
    "        \n",
    "    total = 0\n",
    "    for i in range(0, len(Xf)):\n",
    "        total = total + Xf[i].shape[0] \n",
    "    pos = [len(x)/total for x in Xf]\n",
    "    pos = np.array(pos)\n",
    "        \n",
    "    return img_mean, img_cov, pos\n",
    "\n",
    "def cifar10_classifier_bayes_2(x,mu,sigma,p):\n",
    "    prob_arr = np.zeros(10)\n",
    "    \n",
    "    for i in range(0,10):\n",
    "        prob_arr[i] = (multivariate_normal.pdf(x,mu[i],sigma[i]))*p[i]\n",
    "        \n",
    "    pred_label = np.argmax(prob_arr)\n",
    "    \n",
    "    return pred_label  \n",
    "\n"
   ]
  },
  {
   "cell_type": "code",
   "execution_count": 26,
   "id": "11530596",
   "metadata": {},
   "outputs": [],
   "source": [
    "X_train_2 = cifar10_color(X_train)\n",
    "X_test_2 = cifar10_color(X_test)\n",
    "\n",
    "mu2, sig2, pos2 = cifar10_bayes_learn_2(X_train_2, Y_train)"
   ]
  },
  {
   "cell_type": "code",
   "execution_count": 27,
   "id": "cf52b367",
   "metadata": {},
   "outputs": [],
   "source": [
    "label_predict = np.zeros(len(X_test_2))\n",
    "for i in range(0, len(X_test_2)):\n",
    "    label_predict[i] = cifar10_classifier_bayes_2(X_test_2[i], mu2, sig2, pos2)\n",
    "\n",
    "label_predict = label_predict.astype(int)"
   ]
  },
  {
   "cell_type": "code",
   "execution_count": 28,
   "id": "4ce8924f",
   "metadata": {},
   "outputs": [
    {
     "name": "stdout",
     "output_type": "stream",
     "text": [
      "Accuracy for task 2 test is 24.5%\n"
     ]
    }
   ],
   "source": [
    "accuracy_3 = class_acc(label_predict, Y_test)\n",
    "\n",
    "print(f'Accuracy for task 2 test is {accuracy_3*100}%')"
   ]
  },
  {
   "cell_type": "markdown",
   "id": "12ed868a",
   "metadata": {},
   "source": [
    "<p> The accuracy for task 2 is slightly higher than task 1 since we are trying to find the correlation between those RGB colors. Providing covariane matrices as parameter can explains the relation between those values better in terms of their existence with other colors (for example to construct another color) rather than like the first classification when we just do each color independently </p>"
   ]
  }
 ],
 "metadata": {
  "kernelspec": {
   "display_name": "Python 3",
   "language": "python",
   "name": "python3"
  },
  "language_info": {
   "codemirror_mode": {
    "name": "ipython",
    "version": 3
   },
   "file_extension": ".py",
   "mimetype": "text/x-python",
   "name": "python",
   "nbconvert_exporter": "python",
   "pygments_lexer": "ipython3",
   "version": "3.7.11"
  }
 },
 "nbformat": 4,
 "nbformat_minor": 5
}
